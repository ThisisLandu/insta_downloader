{
 "cells": [
  {
   "cell_type": "code",
   "execution_count": null,
   "metadata": {},
   "outputs": [
    {
     "data": {
      "text/plain": [
       "True"
      ]
     },
     "execution_count": 155,
     "metadata": {},
     "output_type": "execute_result"
    }
   ],
   "source": [
    "from instagrapi import Client\n",
    "from instagrapi.exceptions import UserNotFound\n",
    "import configparser, time, shutil, os, re, unicodedata\n",
    "\n",
    "config = configparser.ConfigParser()\n",
    "config.read(\"config.ini\")\n",
    "\n",
    "USERNAME = config[\"instagram\"][\"username\"]\n",
    "PASSWORD = config[\"instagram\"][\"password\"]\n",
    "\n",
    "cl = Client()\n",
    "cl.login(USERNAME, PASSWORD)"
   ]
  },
  {
   "cell_type": "code",
   "execution_count": null,
   "metadata": {},
   "outputs": [],
   "source": [
    "# -*- coding:utf-8 -*-\n",
    "def get_accounts_num(target_account, config):\n",
    "\n",
    "    # 정규식으로 계정명과 숫자 추출\n",
    "    match = re.match(r\"(https?://www\\.instagram\\.com/)?([\\w\\.]+)(?:\\s*//\\s*(\\d+))?\", target_account)\n",
    "\n",
    "    target_account = match.group(2)  # 계정명\n",
    "    target_post_count = int(match.group(3)) if match.group(3) else int(config[\"instagram\"][\"DEFAULT_NUM\"])\n",
    "\n",
    "    return target_account, target_post_count\n",
    "\n",
    "\n",
    "config = configparser.ConfigParser()\n",
    "config.read(\"config.ini\")\n",
    "\n",
    "ACCOUNTS_LIST = config[\"instagram\"][\"accounts_list\"].splitlines()\n",
    "ACCOUNTS_LIST = [url.strip() for url in ACCOUNTS_LIST if url and url.strip()]\n",
    "\n",
    "# ☆★☆★☆★☆★☆★☆★☆★☆★☆★☆★☆★☆★☆★☆★☆★☆★☆★☆★☆★☆★☆★☆★☆★\n",
    "for target_account in ACCOUNTS_LIST:\n",
    "\n",
    "    target_account, target_post_count = get_accounts_num(target_account, config)\n",
    "\n",
    "    try:\n",
    "        user_info = cl.user_info_by_username(target_account)\n",
    "    except UserNotFound:\n",
    "        print(f\"User not found. Please check the username. -> {target_account}\")\n",
    "        continue\n",
    "    user_id, user_name = user_info.pk, user_info.full_name\n",
    "\n",
    "    download_folder = f\"{user_name} (insta_{target_account})\"\n",
    "    download_folder = os.path.join(config[\"instagram\"][\"default_path\"], download_folder)\n",
    "    download_folder = re.sub(r'[*?\"<>|]', \"\", download_folder.replace(\"|\", \"｜\"))\n",
    "    download_folder = unicodedata.normalize(\"NFC\", download_folder)\n",
    "    print(download_folder)\n",
    "\n",
    "    if not os.path.exists(download_folder):  # 폴더 생성\n",
    "        os.makedirs(download_folder)\n",
    "\n",
    "    medias = cl.user_medias(user_id, target_post_count)  # 게시글 정보 수집\n",
    "\n",
    "    for i, media in enumerate(medias):\n",
    "        print(f\"\\r{user_name} (insta_{target_account}) \\t {i+1}/{target_post_count} - {(i+1)/target_post_count*100:.1f}%\", end=\"\")\n",
    "        download_methods = {1: cl.photo_download, 2: cl.video_download, 8: cl.album_download}  # Photo  # Video  # Album\n",
    "        return_paths = download_methods.get(media.media_type, lambda *_: None)(media.pk, download_folder)\n",
    "        if not isinstance(return_paths, list):\n",
    "            return_paths = [return_paths]\n",
    "\n",
    "        for ii, path in enumerate(return_paths):\n",
    "            prefix, ext = str(path).rsplit(\"\\\\\", 1)[0], str(path).rsplit(\".\", 1)[1]\n",
    "            new_path = os.path.join(prefix, (f\"[{media.taken_at.date()}] {media.code}_p{ii}.{ext}\"))\n",
    "            shutil.move(str(path), new_path)\n",
    "    else:\n",
    "        print(\"\")"
   ]
  }
 ],
 "metadata": {
  "kernelspec": {
   "display_name": "alpha",
   "language": "python",
   "name": "python3"
  },
  "language_info": {
   "codemirror_mode": {
    "name": "ipython",
    "version": 3
   },
   "file_extension": ".py",
   "mimetype": "text/x-python",
   "name": "python",
   "nbconvert_exporter": "python",
   "pygments_lexer": "ipython3",
   "version": "3.10.13"
  }
 },
 "nbformat": 4,
 "nbformat_minor": 2
}
